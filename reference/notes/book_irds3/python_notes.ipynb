{
 "cells": [
  {
   "cell_type": "markdown",
   "id": "47fc599d",
   "metadata": {},
   "source": [
    "### Chapter 2 - Interest Rates"
   ]
  },
  {
   "cell_type": "markdown",
   "id": "159e6b03",
   "metadata": {},
   "source": [
    "#### Day count conventions"
   ]
  },
  {
   "cell_type": "code",
   "execution_count": null,
   "id": "27ff20ec",
   "metadata": {},
   "outputs": [
    {
     "name": "stdout",
     "output_type": "stream",
     "text": [
      "<class 'QuantLib.QuantLib.Actual360'>\n",
      "0.25833333333333336\n"
     ]
    }
   ],
   "source": [
    "import QuantLib as ql\n",
    "import rateslib as rl\n",
    "\n",
    "l = ql.Actual360\n",
    "m = rl.dcf(rl.dt(2000, 1, 1), rl.dt(2000, 4, 3), \"Act360\")\n",
    "\n",
    "print(l)\n",
    "print(m)\n",
    "\n",
    "# Lets create some scheudles using these conventions\n"
   ]
  },
  {
   "cell_type": "code",
   "execution_count": 7,
   "id": "f3bba70a",
   "metadata": {},
   "outputs": [
    {
     "name": "stdout",
     "output_type": "stream",
     "text": [
      "QuantLib Schedule (ACT/ACT, Semi-Annual, Toronto):\n",
      "============================================================\n",
      "0: January 1st, 2022\n",
      "1: July 1st, 2022\n",
      "2: January 1st, 2023\n",
      "3: July 1st, 2023\n",
      "4: January 1st, 2024\n",
      "5: July 1st, 2024\n",
      "6: January 1st, 2025\n",
      "7: July 1st, 2025\n",
      "8: January 1st, 2026\n",
      "\n",
      "Day Count Convention: Actual/Actual (ISDA)\n",
      "\n",
      "Year Fractions:\n",
      "January 1st, 2022 to July 1st, 2022: 0.495890\n",
      "July 1st, 2022 to January 1st, 2023: 0.504110\n",
      "January 1st, 2023 to July 1st, 2023: 0.495890\n",
      "July 1st, 2023 to January 1st, 2024: 0.504110\n",
      "January 1st, 2024 to July 1st, 2024: 0.497268\n",
      "July 1st, 2024 to January 1st, 2025: 0.502732\n",
      "January 1st, 2025 to July 1st, 2025: 0.495890\n",
      "July 1st, 2025 to January 1st, 2026: 0.504110\n",
      "\n",
      "============================================================\n",
      "\n",
      "rateslib Schedule (ACT/ACT, Semi-Annual):\n",
      "============================================================\n",
      "0: 2022-01-01 00:00:00 to 2022-01-05 00:00:00, DCF: 0.010959\n",
      "1: 2022-07-01 00:00:00 to 2022-07-05 00:00:00, DCF: 0.010959\n",
      "2: 2023-01-01 00:00:00 to 2023-01-04 00:00:00, DCF: 0.008219\n",
      "3: 2023-07-01 00:00:00 to 2023-07-05 00:00:00, DCF: 0.010959\n",
      "4: 2024-01-01 00:00:00 to 2024-01-03 00:00:00, DCF: 0.005464\n",
      "5: 2024-07-01 00:00:00 to 2024-07-03 00:00:00, DCF: 0.005464\n",
      "6: 2025-01-01 00:00:00 to 2025-01-03 00:00:00, DCF: 0.005479\n",
      "7: 2025-07-01 00:00:00 to 2025-07-03 00:00:00, DCF: 0.005479\n",
      "8: 2026-01-01 00:00:00 to 2026-01-05 00:00:00, DCF: 0.010959\n"
     ]
    }
   ],
   "source": [
    "# QuantLib Schedule with ACT/ACT and Toronto calendar\n",
    "start_date_ql = ql.Date(1, 1, 2022)\n",
    "end_date_ql = ql.Date(1, 1, 2026)\n",
    "toronto_calendar = ql.Canada(ql.Canada.TSX)\n",
    "\n",
    "schedule_ql = ql.Schedule(\n",
    "    start_date_ql,\n",
    "    end_date_ql,\n",
    "    ql.Period(ql.Semiannual),\n",
    "    toronto_calendar,\n",
    "    ql.Unadjusted,\n",
    "    ql.Unadjusted,\n",
    "    ql.DateGeneration.Backward,\n",
    "    False\n",
    ")\n",
    "\n",
    "daycount_ql = ql.ActualActual(ql.ActualActual.ISDA)\n",
    "\n",
    "print(\"QuantLib Schedule (ACT/ACT, Semi-Annual, Toronto):\")\n",
    "print(\"=\" * 60)\n",
    "for i, date in enumerate(schedule_ql):\n",
    "    print(f\"{i}: {date}\")\n",
    "\n",
    "print(f\"\\nDay Count Convention: {daycount_ql.name()}\")\n",
    "print(\"\\nYear Fractions:\")\n",
    "for i in range(len(schedule_ql) - 1):\n",
    "    yf = daycount_ql.yearFraction(schedule_ql[i], schedule_ql[i+1])\n",
    "    print(f\"{schedule_ql[i]} to {schedule_ql[i+1]}: {yf:.6f}\")\n",
    "\n",
    "print(\"\\n\" + \"=\"*60)\n",
    "\n",
    "# rateslib Schedule with ACT/ACT and Toronto calendar\n",
    "start_date_rl = rl.dt(2022, 1, 1)\n",
    "end_date_rl = rl.dt(2026, 1, 1)\n",
    "toronto_cal_rl = rl.get_calendar(\"tro\")  # Using TARGET as proxy, or use custom\n",
    "\n",
    "schedule_rl = rl.Schedule(\n",
    "    effective=start_date_rl,\n",
    "    termination=end_date_rl,\n",
    "    frequency=\"S\",  # Semi-annual\n",
    "    calendar=toronto_cal_rl,\n",
    "    modifier=\"NONE\",  # Unadjusted\n",
    "    stub=\"ShortFront\",\n",
    "    roll=None\n",
    ")\n",
    "\n",
    "print(\"\\nrateslib Schedule (ACT/ACT, Semi-Annual):\")\n",
    "print(\"=\" * 60)\n",
    "for i, (start, end) in enumerate(zip(schedule_rl.aschedule, schedule_rl.pschedule)):\n",
    "    dcf = rl.dcf(start, end, \"ActAct\")\n",
    "    print(f\"{i}: {start} to {end}, DCF: {dcf:.6f}\")"
   ]
  }
 ],
 "metadata": {
  "kernelspec": {
   "display_name": "venv",
   "language": "python",
   "name": "python3"
  },
  "language_info": {
   "codemirror_mode": {
    "name": "ipython",
    "version": 3
   },
   "file_extension": ".py",
   "mimetype": "text/x-python",
   "name": "python",
   "nbconvert_exporter": "python",
   "pygments_lexer": "ipython3",
   "version": "3.11.9"
  }
 },
 "nbformat": 4,
 "nbformat_minor": 5
}
